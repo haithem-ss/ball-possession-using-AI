{
 "cells": [
  {
   "cell_type": "code",
   "execution_count": 14,
   "metadata": {},
   "outputs": [
    {
     "name": "stdout",
     "output_type": "stream",
     "text": [
      "Requirement already satisfied: deep-sort-realtime in /opt/anaconda3/lib/python3.11/site-packages (1.3.2)\n",
      "Requirement already satisfied: numpy in /opt/anaconda3/lib/python3.11/site-packages (from deep-sort-realtime) (1.26.4)\n",
      "Requirement already satisfied: scipy in /opt/anaconda3/lib/python3.11/site-packages (from deep-sort-realtime) (1.11.4)\n",
      "Requirement already satisfied: opencv-python in /opt/anaconda3/lib/python3.11/site-packages (from deep-sort-realtime) (4.9.0.80)\n",
      "Note: you may need to restart the kernel to use updated packages.\n"
     ]
    }
   ],
   "source": [
    "%pip install deep-sort-realtime"
   ]
  },
  {
   "cell_type": "code",
   "execution_count": 18,
   "metadata": {},
   "outputs": [],
   "source": [
    "%matplotlib inline"
   ]
  },
  {
   "cell_type": "code",
   "execution_count": 1,
   "metadata": {},
   "outputs": [],
   "source": [
    "import torch\n",
    "import numpy as np\n",
    "import cv2 as cv\n",
    "import matplotlib.pyplot as plt\n",
    "from PIL import Image\n",
    "import os\n",
    "import uuid\n",
    "from colors import sky_blue, blue\n",
    "from VideoExporter import VideoExporter\n",
    "from HSVClassifier import HSVClassifier\n",
    "from video import display_video\n",
    "from Detector import PlayerDetector\n",
    "from tracker import DeepSortTracker"
   ]
  },
  {
   "cell_type": "code",
   "execution_count": 2,
   "metadata": {},
   "outputs": [],
   "source": [
    "long_video_path = \"./input/long-input.mp4\"\n",
    "short_video_path = \"./input/short-input.mp4\"\n",
    "output_video_path = \"./output.mp4\"\n",
    "output_folder = \"./output/\"\n",
    "teams = [\n",
    "    {\"name\": \"chelsea\", \"colors\": blue, \"bgr_color\": (255, 0, 0)},\n",
    "    {\"name\": \"mancity\", \"colors\": sky_blue, \"bgr_color\": (250, 206, 135)},\n",
    "]\n",
    "model_path = \"/Users/haithemsaida/Projects/Perso/yolov5/\""
   ]
  },
  {
   "cell_type": "code",
   "execution_count": 3,
   "metadata": {},
   "outputs": [],
   "source": [
    "# ball_model = torch.hub.load(model_path, \"custom\", path=\"./Ball.pt\", source=\"local\")"
   ]
  },
  {
   "cell_type": "code",
   "execution_count": 4,
   "metadata": {},
   "outputs": [
    {
     "name": "stderr",
     "output_type": "stream",
     "text": [
      "YOLOv5 🚀 v7.0-284-g95ebf68f Python-3.11.7 torch-2.2.1 CPU\n",
      "\n",
      "Fusing layers... \n",
      "YOLOv5n summary: 213 layers, 1867405 parameters, 0 gradients, 4.5 GFLOPs\n",
      "Adding AutoShape... \n"
     ]
    }
   ],
   "source": [
    "model = torch.hub.load(\n",
    "    \"/Users/haithemsaida/Projects/Perso/yolov5\", \"yolov5n\", source=\"local\",\n",
    ")"
   ]
  },
  {
   "cell_type": "markdown",
   "metadata": {},
   "source": [
    "# Detecting players using YOLOv5 :"
   ]
  },
  {
   "cell_type": "code",
   "execution_count": 5,
   "metadata": {},
   "outputs": [],
   "source": [
    "def save_image(arr):\n",
    "    if arr[\"label\"].split(\" \")[0] == \"person\":\n",
    "        if not os.path.exists(f\"./images\"):\n",
    "            os.makedirs(f\"./images\")\n",
    "        im = Image.fromarray(arr[\"im\"])\n",
    "        im.save(f\"./images/{uuid.uuid4()}.png\")"
   ]
  },
  {
   "cell_type": "markdown",
   "metadata": {},
   "source": [
    "# Ball detection using YOLOv5 and a custom-built dataset :"
   ]
  },
  {
   "cell_type": "code",
   "execution_count": 6,
   "metadata": {},
   "outputs": [],
   "source": [
    "def draw(frame,box,team,color):\n",
    "    xB = int(box[2])\n",
    "    xA = int(box[0])\n",
    "    yB = int(box[3])\n",
    "    yA = int(box[1])\n",
    "    cv.rectangle(frame, (xA, yA), (xB, yB), color, 3)\n",
    "    font_scale = 0.7\n",
    "    thickness = 2\n",
    "    text_width, text_height = cv.getTextSize(\n",
    "        team, cv.FONT_HERSHEY_SIMPLEX, font_scale, thickness\n",
    "    )[0]\n",
    "    text_x = (xB + xA) // 2 - text_width // 2\n",
    "    text_y = (\n",
    "                yA - 8\n",
    "            )  \n",
    "\n",
    "    cv.putText(\n",
    "        frame,\n",
    "        team,\n",
    "        (text_x, text_y),\n",
    "        cv.FONT_HERSHEY_SIMPLEX,\n",
    "        font_scale,\n",
    "        color,\n",
    "        thickness,\n",
    "    )"
   ]
  },
  {
   "cell_type": "code",
   "execution_count": 7,
   "metadata": {},
   "outputs": [],
   "source": [
    "tracker = DeepSortTracker()\n",
    "track_history = {}"
   ]
  },
  {
   "cell_type": "code",
   "execution_count": 11,
   "metadata": {},
   "outputs": [
    {
     "name": "stderr",
     "output_type": "stream",
     "text": [
      "OpenCV: FFMPEG: tag 0x5634504d/'MP4V' is not supported with codec id 12 and format 'mp4 / MP4 (MPEG-4 Part 14)'\n",
      "OpenCV: FFMPEG: fallback to use tag 0x7634706d/'mp4v'\n"
     ]
    }
   ],
   "source": [
    "cap = cv.VideoCapture(short_video_path)\n",
    "\n",
    "frame_width = int(cap.get(cv.CAP_PROP_FRAME_WIDTH))\n",
    "frame_height = int(cap.get(cv.CAP_PROP_FRAME_HEIGHT))\n",
    "fps = int(cap.get(cv.CAP_PROP_FPS))\n",
    "fourcc = cv.VideoWriter_fourcc(*\"MP4V\")\n",
    "out = cv.VideoWriter(output_video_path, fourcc, fps, (frame_width, frame_height))\n",
    "\n",
    "# A way to limit FPS\n",
    "FPS = -1\n",
    "skipped = 0\n",
    "frames_counter = 0\n",
    "hsv_classifier = HSVClassifier(teams)\n",
    "player_detector = PlayerDetector(model, teams)\n",
    "while cap.isOpened():\n",
    "    ret, frame = cap.read()\n",
    "    if not ret:\n",
    "        break\n",
    "    if skipped < FPS:\n",
    "        skipped += 1\n",
    "    else:\n",
    "        frame_copy = frame.copy()\n",
    "        frames_counter += 1\n",
    "        skipped = 0\n",
    "        players = player_detector.inference(frame_copy)\n",
    "        predictions = []\n",
    "        for player in players:\n",
    "            box=player['box']\n",
    "            conf=player['conf']\n",
    "            label=player['label']\n",
    "            left = int(box[0])\n",
    "            top = int(box[1])\n",
    "            width = int(box[2] - box[0])\n",
    "            height = int(box[3] - box[1])\n",
    "            bbox = [left, top, width, height]\n",
    "            predictions.append((bbox, conf, label))\n",
    "        tracks_current = tracker.object_tracker.update_tracks(\n",
    "            predictions, frame=frame_copy\n",
    "        )\n",
    "        tracker.display_track(track_history, tracks_current, frame_copy)\n",
    "        # for player in players:\n",
    "        #     box, current_player_team, color = player.values()\n",
    "        #     draw(frame_copy, box, current_player_team, color)\n",
    "        out.write(frame_copy)\n",
    "cap.release()\n",
    "out.release()"
   ]
  },
  {
   "cell_type": "markdown",
   "metadata": {},
   "source": []
  },
  {
   "cell_type": "code",
   "execution_count": null,
   "metadata": {},
   "outputs": [],
   "source": [
    "def calculate_centroid(tl_x, tl_y, w, h):\n",
    "    mid_x = int(tl_x + w / 2)\n",
    "    mid_y = int(tl_y + h / 2)\n",
    "    return mid_x, mid_y\n",
    "\n",
    "\n",
    "def convert_output(outputs: torch.Tensor):\n",
    "    # Output of format []\n",
    "    return\n",
    "\n",
    "\n",
    "def convert_history_to_dict(track_history):\n",
    "    history_dict = {}\n",
    "    for frame_content in track_history:\n",
    "        obj_ids, tlwhs, _ = frame_content\n",
    "        for obj_id, tlwh in zip(obj_ids, tlwhs):\n",
    "            tl_x, tl_y, w, h = tlwh\n",
    "            mid_x, mid_y = calculate_centroid(tl_x, tl_y, w, h)\n",
    "\n",
    "            if obj_id not in history_dict.keys():\n",
    "                history_dict[obj_id] = [[mid_x, mid_y]]\n",
    "            else:\n",
    "                history_dict[obj_id].append([mid_x, mid_y])\n",
    "\n",
    "    return history_dict\n",
    "\n",
    "\n",
    "def plot_tracking(image, track_history):\n",
    "    obj_ids, tlwhs, class_ids = track_history[-1]\n",
    "    history_dict = convert_history_to_dict(track_history)\n",
    "\n",
    "    im = np.ascontiguousarray(np.copy(image))\n",
    "    im_h, im_w = im.shape[:2]\n",
    "\n",
    "    top_view = np.zeros([im_w, im_w, 3], dtype=np.uint8) + 255\n",
    "\n",
    "    num_detections = len(tlwhs)\n",
    "    label_count = {class_name: 0 for class_name in CLASSES}\n",
    "    for label_idx in class_ids:\n",
    "        label_count[ID2CLASSES[label_idx]] += 1\n",
    "\n",
    "    for i, tlwh in enumerate(tlwhs):\n",
    "        x1, y1, w, h = tlwh\n",
    "        intbox = tuple(map(int, (x1, y1, x1 + w, y1 + h)))\n",
    "        obj_id = int(obj_ids[i])\n",
    "        class_id = class_ids[i]\n",
    "        id_text = \"{}\".format(int(obj_id))\n",
    "        color = COLORS[class_id]\n",
    "        cv.rectangle(\n",
    "            im, intbox[0:2], intbox[2:4], color=color, thickness=line_thickness\n",
    "        )\n",
    "        cv.putText(\n",
    "            im,\n",
    "            id_text,\n",
    "            (intbox[0], intbox[1]),\n",
    "            cv.FONT_HERSHEY_PLAIN,\n",
    "            text_scale,\n",
    "            color,\n",
    "            thickness=text_thickness,\n",
    "        )\n",
    "        cv.putText(\n",
    "            im,\n",
    "            ID2CLASSES[class_id],\n",
    "            (intbox[0], intbox[3] + 20),\n",
    "            cv.FONT_HERSHEY_PLAIN,\n",
    "            text_scale,\n",
    "            color,\n",
    "            thickness=text_thickness,\n",
    "        )\n",
    "\n",
    "        for idx in range(len(history_dict[obj_id]) - 1):\n",
    "            prev_point, next_point = (\n",
    "                history_dict[obj_id][idx],\n",
    "                history_dict[obj_id][idx + 1],\n",
    "            )\n",
    "            cv.line(im, prev_point, next_point, color, 2)\n",
    "\n",
    "    return im"
   ]
  }
 ],
 "metadata": {
  "kernelspec": {
   "display_name": "Python 3",
   "language": "python",
   "name": "python3"
  },
  "language_info": {
   "codemirror_mode": {
    "name": "ipython",
    "version": 3
   },
   "file_extension": ".py",
   "mimetype": "text/x-python",
   "name": "python",
   "nbconvert_exporter": "python",
   "pygments_lexer": "ipython3",
   "version": "3.11.7"
  }
 },
 "nbformat": 4,
 "nbformat_minor": 2
}
